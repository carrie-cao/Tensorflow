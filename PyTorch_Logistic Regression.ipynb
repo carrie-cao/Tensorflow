{
 "cells": [
  {
   "cell_type": "markdown",
   "metadata": {},
   "source": [
    "#  Logistic Regression in PyTorch\n",
    "\n",
    "MNIST Handwritten Digits Database "
   ]
  },
  {
   "cell_type": "code",
   "execution_count": 55,
   "metadata": {},
   "outputs": [
    {
     "name": "stdout",
     "output_type": "stream",
     "text": [
      "1.6.0\n"
     ]
    }
   ],
   "source": [
    "# Imports\n",
    "import torch\n",
    "print(torch.__version__)\n",
    "\n",
    "import torchvision\n",
    "\n",
    "from torchvision.datasets import MNIST"
   ]
  },
  {
   "cell_type": "code",
   "execution_count": 56,
   "metadata": {},
   "outputs": [
    {
     "data": {
      "text/plain": [
       "(60000, 10000)"
      ]
     },
     "execution_count": 56,
     "metadata": {},
     "output_type": "execute_result"
    }
   ],
   "source": [
    "# Download training dataset\n",
    "dataset = MNIST(root='data/', download=True)\n",
    "\n",
    "test_dataset = MNIST(root='data/', train=False)\n",
    "len(dataset), len(test_dataset)"
   ]
  },
  {
   "cell_type": "code",
   "execution_count": 57,
   "metadata": {},
   "outputs": [],
   "source": [
    "import matplotlib.pyplot as plt\n",
    "%matplotlib inline"
   ]
  },
  {
   "cell_type": "code",
   "execution_count": 58,
   "metadata": {},
   "outputs": [
    {
     "name": "stdout",
     "output_type": "stream",
     "text": [
      "Label: 5\n"
     ]
    },
    {
     "data": {
      "image/png": "[encoded data removed]",
      "text/plain": [
       "<Figure size 432x288 with 1 Axes>"
      ]
     },
     "metadata": {
      "needs_background": "light"
     },
     "output_type": "display_data"
    }
   ],
   "source": [
    "image, label = dataset[0]\n",
    "plt.imshow(image, cmap='gray')\n",
    "print('Label:', label)"
   ]
  },
  {
   "cell_type": "code",
   "execution_count": 59,
   "metadata": {},
   "outputs": [
    {
     "name": "stdout",
     "output_type": "stream",
     "text": [
      "torch.Size([1, 28, 28]) 5\n"
     ]
    }
   ],
   "source": [
    "import torchvision.transforms as transforms\n",
    "# MNIST dataset (images and labels)\n",
    "dataset = MNIST(root='data/', \n",
    "                train=True,\n",
    "                transform=transforms.ToTensor())\n",
    "\n",
    "img_tensor, label = dataset[0]\n",
    "print(img_tensor.shape, label)"
   ]
  },
  {
   "cell_type": "code",
   "execution_count": 60,
   "metadata": {},
   "outputs": [
    {
     "name": "stdout",
     "output_type": "stream",
     "text": [
      "tensor([[[0.7294, 0.9922, 0.9922, 0.5882, 0.1059],\n",
      "         [0.0627, 0.3647, 0.9882, 0.9922, 0.7333],\n",
      "         [0.0000, 0.0000, 0.9765, 0.9922, 0.9765],\n",
      "         [0.5098, 0.7176, 0.9922, 0.9922, 0.8118],\n",
      "         [0.9922, 0.9922, 0.9922, 0.9804, 0.7137]]])\n",
      "tensor(1.) tensor(0.)\n"
     ]
    }
   ],
   "source": [
    "print(img_tensor[:,15:20,15:20])\n",
    "print(torch.max(img_tensor), torch.min(img_tensor))"
   ]
  },
  {
   "cell_type": "code",
   "execution_count": 61,
   "metadata": {},
   "outputs": [
    {
     "data": {
      "image/png": "[encoded data removed]",
      "text/plain": [
       "<Figure size 432x288 with 1 Axes>"
      ]
     },
     "metadata": {
      "needs_background": "light"
     },
     "output_type": "display_data"
    }
   ],
   "source": [
    "# Plot the image by passing in the 28x28 matrix\n",
    "plt.imshow(img_tensor[0,1:20,1:20], cmap='gray');"
   ]
  },
  {
   "cell_type": "markdown",
   "metadata": {},
   "source": [
    "# Split datasets: Training,Validation,Test"
   ]
  },
  {
   "cell_type": "code",
   "execution_count": 62,
   "metadata": {},
   "outputs": [
    {
     "data": {
      "text/plain": [
       "(50000, 10000)"
      ]
     },
     "execution_count": 62,
     "metadata": {},
     "output_type": "execute_result"
    }
   ],
   "source": [
    "from torch.utils.data import random_split\n",
    "train_ds, val_ds = random_split(dataset, [50000, 10000])\n",
    "len(train_ds), len(val_ds)"
   ]
  },
  {
   "cell_type": "code",
   "execution_count": 63,
   "metadata": {},
   "outputs": [],
   "source": [
    "from torch.utils.data import DataLoader\n",
    "\n",
    "batch_size = 256\n",
    "train_loader = DataLoader(train_ds, batch_size, shuffle=True)\n",
    "val_loader = DataLoader(val_ds, batch_size)"
   ]
  },
  {
   "cell_type": "markdown",
   "metadata": {},
   "source": [
    "# Logistic Model"
   ]
  },
  {
   "cell_type": "code",
   "execution_count": 64,
   "metadata": {},
   "outputs": [],
   "source": [
    "import torch.nn as nn\n",
    "\n",
    "input_size = 28*28\n",
    "num_classes = 10\n",
    "\n",
    "# Logistic regression model\n",
    "model = nn.Linear(input_size, num_classes)"
   ]
  },
  {
   "cell_type": "code",
   "execution_count": 65,
   "metadata": {},
   "outputs": [
    {
     "name": "stdout",
     "output_type": "stream",
     "text": [
      "torch.Size([10, 784])\n",
      "Parameter containing:\n",
      "tensor([[-0.0049, -0.0220,  0.0093,  ...,  0.0144, -0.0282,  0.0297],\n",
      "        [ 0.0089, -0.0141,  0.0253,  ...,  0.0041,  0.0231,  0.0117],\n",
      "        [ 0.0051,  0.0354,  0.0051,  ...,  0.0071, -0.0334, -0.0351],\n",
      "        ...,\n",
      "        [ 0.0331, -0.0333, -0.0257,  ...,  0.0142,  0.0127, -0.0116],\n",
      "        [-0.0244, -0.0357,  0.0003,  ..., -0.0133, -0.0097, -0.0326],\n",
      "        [-0.0192,  0.0205, -0.0026,  ..., -0.0008, -0.0185, -0.0236]],\n",
      "       requires_grad=True)\n",
      "torch.Size([10])\n",
      "Parameter containing:\n",
      "tensor([ 0.0261, -0.0114,  0.0191,  0.0115, -0.0254,  0.0238, -0.0105,  0.0185,\n",
      "        -0.0232, -0.0248], requires_grad=True)\n"
     ]
    }
   ],
   "source": [
    "print(model.weight.shape)\n",
    "print(model.weight)\n",
    "print(model.bias.shape)\n",
    "print(model.bias)"
   ]
  },
  {
   "cell_type": "code",
   "execution_count": 66,
   "metadata": {},
   "outputs": [],
   "source": [
    "class MnistModel(nn.Module):\n",
    "    def __init__(self):\n",
    "        super().__init__()\n",
    "        self.linear = nn.Linear(input_size, num_classes)\n",
    "        \n",
    "    def forward(self, xb):\n",
    "        xb = xb.reshape(-1, 784)\n",
    "        out = self.linear(xb)\n",
    "        return out\n",
    "    \n",
    "model = MnistModel()"
   ]
  },
  {
   "cell_type": "code",
   "execution_count": 67,
   "metadata": {},
   "outputs": [
    {
     "name": "stdout",
     "output_type": "stream",
     "text": [
      "torch.Size([10, 784]) torch.Size([10])\n"
     ]
    },
    {
     "data": {
      "text/plain": [
       "[Parameter containing:\n",
       " tensor([[-0.0232,  0.0313, -0.0236,  ...,  0.0112, -0.0226, -0.0280],\n",
       "         [-0.0107,  0.0162, -0.0293,  ...,  0.0262, -0.0348,  0.0185],\n",
       "         [ 0.0261, -0.0138,  0.0078,  ..., -0.0212,  0.0333,  0.0202],\n",
       "         ...,\n",
       "         [-0.0059,  0.0007, -0.0140,  ..., -0.0140,  0.0192,  0.0224],\n",
       "         [ 0.0041,  0.0153, -0.0024,  ...,  0.0057,  0.0245, -0.0146],\n",
       "         [ 0.0122,  0.0061,  0.0252,  ..., -0.0138,  0.0103, -0.0101]],\n",
       "        requires_grad=True),\n",
       " Parameter containing:\n",
       " tensor([ 0.0340, -0.0263,  0.0271, -0.0345,  0.0077,  0.0225,  0.0176,  0.0050,\n",
       "          0.0185,  0.0124], requires_grad=True)]"
      ]
     },
     "execution_count": 67,
     "metadata": {},
     "output_type": "execute_result"
    }
   ],
   "source": [
    "print(model.linear.weight.shape, model.linear.bias.shape)\n",
    "list(model.parameters())"
   ]
  },
  {
   "cell_type": "code",
   "execution_count": 68,
   "metadata": {},
   "outputs": [
    {
     "name": "stdout",
     "output_type": "stream",
     "text": [
      "outputs.shape :  torch.Size([256, 10])\n",
      "Sample outputs :\n",
      " tensor([[ 0.0487, -0.1419,  0.2454, -0.2162,  0.2656,  0.0015,  0.2894, -0.0241,\n",
      "          0.1475,  0.1271],\n",
      "        [-0.1447,  0.1633, -0.0918, -0.2126, -0.1109, -0.0081,  0.0878,  0.0212,\n",
      "         -0.1531,  0.2411]])\n"
     ]
    }
   ],
   "source": [
    "for images, labels in train_loader:\n",
    "    outputs = model(images)\n",
    "    break\n",
    "\n",
    "print('outputs.shape : ', outputs.shape)\n",
    "print('Sample outputs :\\n', outputs[:2].data)"
   ]
  },
  {
   "cell_type": "markdown",
   "metadata": {},
   "source": [
    "# softmax: convert the output into probabilities"
   ]
  },
  {
   "cell_type": "code",
   "execution_count": 69,
   "metadata": {},
   "outputs": [
    {
     "name": "stdout",
     "output_type": "stream",
     "text": [
      "Sample probabilities:\n",
      " tensor([[0.0962, 0.0795, 0.1171, 0.0738, 0.1195, 0.0918, 0.1224, 0.0894, 0.1062,\n",
      "         0.1040]])\n"
     ]
    }
   ],
   "source": [
    "import torch.nn.functional as F\n",
    "# Apply softmax for each output row\n",
    "probs = F.softmax(outputs, dim=1)\n",
    "\n",
    "# Look at sample probabilities\n",
    "print(\"Sample probabilities:\\n\", probs[:1].data)"
   ]
  },
  {
   "cell_type": "markdown",
   "metadata": {},
   "source": [
    "### torch.max returns the largest element, index of the largest element along a particular dimension of a tensor."
   ]
  },
  {
   "cell_type": "code",
   "execution_count": 70,
   "metadata": {},
   "outputs": [
    {
     "name": "stdout",
     "output_type": "stream",
     "text": [
      "Sum:  1.0\n",
      "tensor([6, 9, 2, 7, 2, 2, 9, 2, 9, 0, 5, 2, 0, 2, 2, 2, 6, 5, 5, 2, 2, 2, 2, 2,\n",
      "        2, 2, 2, 6, 0, 2, 6, 6, 5, 5, 9, 8, 6, 8, 2, 5, 2, 7, 2, 7, 2, 5, 2, 2,\n",
      "        2, 2, 2, 2, 2, 2, 2, 7, 0, 1, 2, 2, 2, 9, 9, 7, 5, 2, 2, 2, 2, 2, 9, 7,\n",
      "        6, 5, 2, 2, 0, 0, 2, 6, 9, 6, 5, 4, 5, 2, 6, 0, 2, 8, 8, 5, 0, 9, 5, 6,\n",
      "        2, 2, 2, 2, 6, 6, 7, 2, 2, 9, 9, 1, 2, 5, 1, 2, 5, 6, 2, 2, 2, 2, 2, 2,\n",
      "        5, 5, 6, 6, 9, 6, 1, 2, 0, 2, 2, 5, 7, 2, 6, 2, 2, 6, 7, 5, 2, 2, 7, 9,\n",
      "        2, 9, 2, 5, 7, 5, 9, 6, 6, 0, 6, 2, 2, 2, 2, 9, 2, 6, 2, 2, 2, 9, 6, 6,\n",
      "        8, 2, 1, 5, 0, 2, 2, 8, 2, 2, 4, 5, 9, 9, 2, 2, 9, 2, 2, 9, 2, 2, 2, 2,\n",
      "        2, 2, 5, 2, 2, 7, 2, 5, 5, 2, 2, 6, 9, 2, 6, 2, 2, 9, 5, 2, 2, 5, 6, 2,\n",
      "        5, 5, 0, 6, 7, 2, 5, 6, 2, 9, 2, 5, 9, 6, 2, 5, 2, 9, 2, 6, 9, 2, 5, 5,\n",
      "        2, 2, 2, 2, 9, 2, 2, 6, 1, 5, 2, 9, 2, 2, 6, 6])\n",
      "tensor([0.1224, 0.1286, 0.1307, 0.1295, 0.1451, 0.1354, 0.1464, 0.1461, 0.1592,\n",
      "        0.1389, 0.1438, 0.1284, 0.1218, 0.1301, 0.1435, 0.1786, 0.1228, 0.1210,\n",
      "        0.1322, 0.1630, 0.1434, 0.1503, 0.1524, 0.1224, 0.1238, 0.1421, 0.1598,\n",
      "        0.1260, 0.1302, 0.1356, 0.1261, 0.1252, 0.1584, 0.1447, 0.1341, 0.1180,\n",
      "        0.1324, 0.1235, 0.1442, 0.1227, 0.1603, 0.1324, 0.1600, 0.1380, 0.1260,\n",
      "        0.1236, 0.1301, 0.1453, 0.1317, 0.1301, 0.1113, 0.1327, 0.1379, 0.1443,\n",
      "        0.1230, 0.1222, 0.1372, 0.1149, 0.1466, 0.1379, 0.1436, 0.1433, 0.1165,\n",
      "        0.1354, 0.1371, 0.1555, 0.1529, 0.1238, 0.1268, 0.1361, 0.1440, 0.1151,\n",
      "        0.1115, 0.1334, 0.1361, 0.1444, 0.1716, 0.1405, 0.1297, 0.1410, 0.1207,\n",
      "        0.1237, 0.1346, 0.1205, 0.1407, 0.1447, 0.1248, 0.1392, 0.1376, 0.1222,\n",
      "        0.1242, 0.1298, 0.1326, 0.1286, 0.1486, 0.1369, 0.1317, 0.1289, 0.1428,\n",
      "        0.1451, 0.1255, 0.1198, 0.1227, 0.1258, 0.1513, 0.1369, 0.1104, 0.1152,\n",
      "        0.1516, 0.1439, 0.1214, 0.1442, 0.1450, 0.1308, 0.1181, 0.1598, 0.1630,\n",
      "        0.1248, 0.1437, 0.1235, 0.1320, 0.1461, 0.1205, 0.1116, 0.1299, 0.1327,\n",
      "        0.1292, 0.1714, 0.1192, 0.1354, 0.1375, 0.1380, 0.1224, 0.1448, 0.1424,\n",
      "        0.1310, 0.1494, 0.1507, 0.1337, 0.1341, 0.1525, 0.1386, 0.1203, 0.1341,\n",
      "        0.1311, 0.1251, 0.1167, 0.1289, 0.1306, 0.1251, 0.1389, 0.1320, 0.1313,\n",
      "        0.1266, 0.1294, 0.1675, 0.1307, 0.1489, 0.1222, 0.1186, 0.1165, 0.1421,\n",
      "        0.1428, 0.1240, 0.1383, 0.1493, 0.1237, 0.1227, 0.1444, 0.1294, 0.1216,\n",
      "        0.1350, 0.1381, 0.1376, 0.1290, 0.1224, 0.1458, 0.1409, 0.1201, 0.1375,\n",
      "        0.1319, 0.1387, 0.1224, 0.1390, 0.1369, 0.1643, 0.1246, 0.1209, 0.1178,\n",
      "        0.1562, 0.1346, 0.1407, 0.1227, 0.1306, 0.1165, 0.1474, 0.1301, 0.1287,\n",
      "        0.1289, 0.1321, 0.1333, 0.1331, 0.1169, 0.1232, 0.1210, 0.1526, 0.1307,\n",
      "        0.1322, 0.1290, 0.1398, 0.1330, 0.1370, 0.1328, 0.1229, 0.1406, 0.1350,\n",
      "        0.1337, 0.1461, 0.1637, 0.1227, 0.1268, 0.1188, 0.1322, 0.1503, 0.1751,\n",
      "        0.1134, 0.1342, 0.1220, 0.1150, 0.1310, 0.1199, 0.1310, 0.1446, 0.1202,\n",
      "        0.1417, 0.1143, 0.1501, 0.1399, 0.1419, 0.1388, 0.1625, 0.1519, 0.1595,\n",
      "        0.1250, 0.1445, 0.1288, 0.1385, 0.1254, 0.1148, 0.1210, 0.1388, 0.1535,\n",
      "        0.1240, 0.1192, 0.1257, 0.1271], grad_fn=<MaxBackward0>)\n",
      "tensor([1, 7, 3, 6, 4, 5, 0, 2, 0, 0, 4, 4, 7, 8, 6, 6, 1, 1, 7, 2, 0, 6, 8, 5,\n",
      "        3, 6, 6, 1, 0, 6, 2, 6, 6, 4, 7, 5, 3, 0, 4, 9, 2, 2, 2, 8, 2, 3, 3, 4,\n",
      "        8, 4, 8, 8, 0, 6, 2, 7, 3, 6, 6, 8, 0, 0, 7, 3, 1, 4, 2, 5, 5, 2, 0, 3,\n",
      "        1, 7, 2, 0, 7, 5, 2, 5, 9, 8, 8, 1, 2, 2, 9, 3, 8, 0, 0, 9, 0, 5, 8, 6,\n",
      "        0, 1, 4, 2, 3, 6, 9, 4, 2, 7, 7, 7, 9, 1, 7, 2, 8, 8, 5, 6, 6, 1, 2, 5,\n",
      "        2, 4, 1, 7, 0, 0, 9, 6, 7, 5, 9, 9, 5, 6, 1, 6, 5, 2, 8, 8, 3, 3, 9, 4,\n",
      "        6, 5, 3, 3, 4, 7, 0, 0, 1, 7, 6, 6, 4, 2, 6, 7, 9, 1, 3, 7, 3, 5, 2, 4,\n",
      "        0, 0, 9, 2, 5, 0, 4, 0, 8, 5, 6, 9, 9, 7, 3, 8, 7, 6, 2, 9, 2, 9, 3, 6,\n",
      "        4, 8, 9, 8, 5, 8, 8, 7, 9, 6, 8, 1, 0, 0, 5, 2, 5, 7, 2, 4, 2, 9, 1, 9,\n",
      "        8, 2, 7, 1, 8, 6, 7, 1, 6, 9, 2, 0, 7, 1, 4, 1, 8, 5, 9, 5, 0, 4, 8, 8,\n",
      "        2, 2, 6, 8, 0, 2, 2, 5, 7, 9, 9, 0, 2, 6, 1, 1])\n"
     ]
    }
   ],
   "source": [
    "# Add up the probabilities of an output row\n",
    "print(\"Sum: \", torch.sum(probs[0]).item())\n",
    "max_probs, preds = torch.max(probs, dim=1)\n",
    "print(preds)\n",
    "print(max_probs)\n",
    "print(labels)"
   ]
  },
  {
   "cell_type": "markdown",
   "metadata": {},
   "source": [
    "# Evaluate the Accuracy"
   ]
  },
  {
   "cell_type": "code",
   "execution_count": 71,
   "metadata": {},
   "outputs": [
    {
     "data": {
      "text/plain": [
       "tensor(0.1484)"
      ]
     },
     "execution_count": 71,
     "metadata": {},
     "output_type": "execute_result"
    }
   ],
   "source": [
    "def accuracy(outputs, labels):\n",
    "    _, preds = torch.max(outputs, dim=1)\n",
    "    return torch.tensor(torch.sum(preds == labels).item() / len(preds))\n",
    "accuracy(outputs, labels)"
   ]
  },
  {
   "cell_type": "code",
   "execution_count": 72,
   "metadata": {},
   "outputs": [
    {
     "name": "stdout",
     "output_type": "stream",
     "text": [
      "tensor(2.2853, grad_fn=<NllLossBackward>)\n"
     ]
    }
   ],
   "source": [
    "loss_fn = F.cross_entropy\n",
    "# Loss for current batch of data\n",
    "loss = loss_fn(outputs, labels)\n",
    "print(loss)"
   ]
  },
  {
   "cell_type": "markdown",
   "metadata": {},
   "source": [
    "# Training the model"
   ]
  },
  {
   "cell_type": "code",
   "execution_count": 73,
   "metadata": {},
   "outputs": [],
   "source": [
    "class MnistModel(nn.Module):\n",
    "    def __init__(self):\n",
    "        super().__init__()\n",
    "        self.linear = nn.Linear(input_size, num_classes)\n",
    "        \n",
    "    def forward(self, xb):\n",
    "        xb = xb.reshape(-1, 784)\n",
    "        out = self.linear(xb)\n",
    "        return out\n",
    "    \n",
    "    def training_step(self, batch):\n",
    "        images, labels = batch \n",
    "        out = self(images)                  # Generate predictions\n",
    "        loss = F.cross_entropy(out, labels) # Calculate loss\n",
    "        return loss\n",
    "    \n",
    "    def validation_step(self, batch):\n",
    "        images, labels = batch \n",
    "        out = self(images)                    # Generate predictions\n",
    "        loss = F.cross_entropy(out, labels)   # Calculate loss\n",
    "        acc = accuracy(out, labels)           # Calculate accuracy\n",
    "        return {'val_loss': loss, 'val_acc': acc}\n",
    "        \n",
    "    def validation_epoch_end(self, outputs):\n",
    "        batch_losses = [x['val_loss'] for x in outputs]\n",
    "        epoch_loss = torch.stack(batch_losses).mean()   # Combine losses\n",
    "        batch_accs = [x['val_acc'] for x in outputs]\n",
    "        epoch_acc = torch.stack(batch_accs).mean()      # Combine accuracies\n",
    "        return {'val_loss': epoch_loss.item(), 'val_acc': epoch_acc.item()}\n",
    "    \n",
    "    def epoch_end(self, epoch, result):\n",
    "        print(\"Epoch [{}], val_loss: {:.4f}, val_acc: {:.4f}\".format(epoch, result['val_loss'], result['val_acc']))\n",
    "    \n",
    "model = MnistModel()"
   ]
  },
  {
   "cell_type": "code",
   "execution_count": 74,
   "metadata": {},
   "outputs": [],
   "source": [
    "def evaluate(model, val_loader):\n",
    "    outputs = [model.validation_step(batch) for batch in val_loader]\n",
    "    return model.validation_epoch_end(outputs)\n",
    "\n",
    "def fit(epochs, lr, model, train_loader, val_loader, opt_func=torch.optim.SGD):\n",
    "    history = []\n",
    "    optimizer = opt_func(model.parameters(), lr)\n",
    "    for epoch in range(epochs):\n",
    "        # Training Phase \n",
    "        for batch in train_loader:\n",
    "            loss = model.training_step(batch)\n",
    "            loss.backward()\n",
    "            optimizer.step()\n",
    "            optimizer.zero_grad()\n",
    "        # Validation phase\n",
    "        result = evaluate(model, val_loader)\n",
    "        model.epoch_end(epoch, result)\n",
    "        history.append(result)\n",
    "    return history"
   ]
  },
  {
   "cell_type": "code",
   "execution_count": 75,
   "metadata": {},
   "outputs": [
    {
     "data": {
      "text/plain": [
       "{'val_loss': 2.2633652687072754, 'val_acc': 0.17919921875}"
      ]
     },
     "execution_count": 75,
     "metadata": {},
     "output_type": "execute_result"
    }
   ],
   "source": [
    "result0 = evaluate(model, val_loader)\n",
    "result0"
   ]
  },
  {
   "cell_type": "code",
   "execution_count": 76,
   "metadata": {},
   "outputs": [
    {
     "name": "stdout",
     "output_type": "stream",
     "text": [
      "Epoch [0], val_loss: 2.0662, val_acc: 0.5135\n",
      "Epoch [1], val_loss: 1.9034, val_acc: 0.6619\n",
      "Epoch [2], val_loss: 1.7645, val_acc: 0.7182\n",
      "Epoch [3], val_loss: 1.6449, val_acc: 0.7411\n",
      "Epoch [4], val_loss: 1.5415, val_acc: 0.7585\n",
      "Epoch [5], val_loss: 1.4519, val_acc: 0.7708\n",
      "Epoch [6], val_loss: 1.3741, val_acc: 0.7803\n",
      "Epoch [7], val_loss: 1.3062, val_acc: 0.7877\n",
      "Epoch [8], val_loss: 1.2465, val_acc: 0.7945\n",
      "Epoch [9], val_loss: 1.1938, val_acc: 0.7992\n",
      "Epoch [10], val_loss: 1.1471, val_acc: 0.8032\n",
      "Epoch [11], val_loss: 1.1054, val_acc: 0.8075\n",
      "Epoch [12], val_loss: 1.0680, val_acc: 0.8099\n",
      "Epoch [13], val_loss: 1.0343, val_acc: 0.8135\n",
      "Epoch [14], val_loss: 1.0038, val_acc: 0.8157\n",
      "Epoch [15], val_loss: 0.9761, val_acc: 0.8184\n",
      "Epoch [16], val_loss: 0.9508, val_acc: 0.8202\n",
      "Epoch [17], val_loss: 0.9276, val_acc: 0.8232\n",
      "Epoch [18], val_loss: 0.9062, val_acc: 0.8250\n",
      "Epoch [19], val_loss: 0.8865, val_acc: 0.8275\n"
     ]
    }
   ],
   "source": [
    "history = fit(20, 0.001, model, train_loader, val_loader)"
   ]
  },
  {
   "cell_type": "code",
   "execution_count": 77,
   "metadata": {},
   "outputs": [
    {
     "data": {
      "image/png": "[encoded data removed]",
      "text/plain": [
       "<Figure size 432x288 with 1 Axes>"
      ]
     },
     "metadata": {
      "needs_background": "light"
     },
     "output_type": "display_data"
    }
   ],
   "source": [
    "# Replace these values with your results\n",
    "history = [result0] + history\n",
    "accuracies = [result['val_acc'] for result in history]\n",
    "plt.plot(accuracies, '-x')\n",
    "plt.xlabel('epoch')\n",
    "plt.ylabel('accuracy')\n",
    "plt.title('Accuracy vs. No. of epochs');"
   ]
  },
  {
   "cell_type": "markdown",
   "metadata": {},
   "source": [
    "# Testing "
   ]
  },
  {
   "cell_type": "code",
   "execution_count": 78,
   "metadata": {},
   "outputs": [],
   "source": [
    "# Define test dataset\n",
    "test_dataset = MNIST(root='data/', \n",
    "                     train=False,\n",
    "                     transform=transforms.ToTensor())"
   ]
  },
  {
   "cell_type": "code",
   "execution_count": 79,
   "metadata": {},
   "outputs": [
    {
     "name": "stdout",
     "output_type": "stream",
     "text": [
      "Shape: torch.Size([1, 28, 28])\n",
      "Label: 7\n"
     ]
    },
    {
     "data": {
      "image/png": "[encoded data removed]",
      "text/plain": [
       "<Figure size 432x288 with 1 Axes>"
      ]
     },
     "metadata": {
      "needs_background": "light"
     },
     "output_type": "display_data"
    }
   ],
   "source": [
    "img, label = test_dataset[0]\n",
    "plt.imshow(img[0], cmap='gray')\n",
    "print('Shape:', img.shape)\n",
    "print('Label:', label)"
   ]
  },
  {
   "cell_type": "code",
   "execution_count": 80,
   "metadata": {},
   "outputs": [
    {
     "data": {
      "text/plain": [
       "torch.Size([1, 1, 28, 28])"
      ]
     },
     "execution_count": 80,
     "metadata": {},
     "output_type": "execute_result"
    }
   ],
   "source": [
    "img.unsqueeze(0).shape"
   ]
  },
  {
   "cell_type": "code",
   "execution_count": 81,
   "metadata": {},
   "outputs": [],
   "source": [
    "def predict_image(img, model):\n",
    "    xb = img.unsqueeze(0)\n",
    "    yb = model(xb)\n",
    "    _, preds  = torch.max(yb, dim=1)\n",
    "    return preds[0].item()"
   ]
  },
  {
   "cell_type": "code",
   "execution_count": 82,
   "metadata": {},
   "outputs": [
    {
     "name": "stdout",
     "output_type": "stream",
     "text": [
      "Label: 7 , Predicted: 7\n"
     ]
    },
    {
     "data": {
      "image/png": "[encoded data removed]",
      "text/plain": [
       "<Figure size 432x288 with 1 Axes>"
      ]
     },
     "metadata": {
      "needs_background": "light"
     },
     "output_type": "display_data"
    }
   ],
   "source": [
    "img, label = test_dataset[0]\n",
    "plt.imshow(img[0], cmap='gray')\n",
    "print('Label:', label, ', Predicted:', predict_image(img, model))"
   ]
  },
  {
   "cell_type": "code",
   "execution_count": 83,
   "metadata": {},
   "outputs": [
    {
     "name": "stdout",
     "output_type": "stream",
     "text": [
      "Label: 0 , Predicted: 0\n"
     ]
    },
    {
     "data": {
      "image/png": "[encoded data removed]",
      "text/plain": [
       "<Figure size 432x288 with 1 Axes>"
      ]
     },
     "metadata": {
      "needs_background": "light"
     },
     "output_type": "display_data"
    }
   ],
   "source": [
    "img, label = test_dataset[10]\n",
    "plt.imshow(img[0], cmap='gray')\n",
    "print('Label:', label, ', Predicted:', predict_image(img, model))"
   ]
  },
  {
   "cell_type": "code",
   "execution_count": 84,
   "metadata": {},
   "outputs": [
    {
     "data": {
      "text/plain": [
       "{'val_loss': 0.8541518449783325, 'val_acc': 0.840624988079071}"
      ]
     },
     "execution_count": 84,
     "metadata": {},
     "output_type": "execute_result"
    }
   ],
   "source": [
    "test_loader = DataLoader(test_dataset, batch_size=256)\n",
    "result = evaluate(model, test_loader)\n",
    "result"
   ]
  },
  {
   "cell_type": "markdown",
   "metadata": {},
   "source": [
    "# Save model for reusing"
   ]
  },
  {
   "cell_type": "code",
   "execution_count": 85,
   "metadata": {},
   "outputs": [],
   "source": [
    "torch.save(model.state_dict(), 'mnist-logistic.pth')"
   ]
  },
  {
   "cell_type": "code",
   "execution_count": 86,
   "metadata": {},
   "outputs": [
    {
     "data": {
      "text/plain": [
       "OrderedDict([('linear.weight',\n",
       "              tensor([[ 0.0174,  0.0258,  0.0119,  ..., -0.0281,  0.0168, -0.0009],\n",
       "                      [-0.0333, -0.0037,  0.0047,  ..., -0.0177, -0.0336,  0.0098],\n",
       "                      [ 0.0313,  0.0085, -0.0137,  ..., -0.0151, -0.0331,  0.0164],\n",
       "                      ...,\n",
       "                      [ 0.0047, -0.0313,  0.0109,  ..., -0.0121, -0.0225,  0.0229],\n",
       "                      [ 0.0154, -0.0161,  0.0333,  ...,  0.0349,  0.0356,  0.0021],\n",
       "                      [ 0.0066, -0.0071,  0.0091,  ..., -0.0230, -0.0109,  0.0097]])),\n",
       "             ('linear.bias',\n",
       "              tensor([-0.0325,  0.0540, -0.0313, -0.0186,  0.0447,  0.0246, -0.0134, -0.0028,\n",
       "                      -0.0262, -0.0006]))])"
      ]
     },
     "execution_count": 86,
     "metadata": {},
     "output_type": "execute_result"
    }
   ],
   "source": [
    "model.state_dict()"
   ]
  },
  {
   "cell_type": "code",
   "execution_count": 87,
   "metadata": {},
   "outputs": [
    {
     "data": {
      "text/plain": [
       "OrderedDict([('linear.weight',\n",
       "              tensor([[ 0.0174,  0.0258,  0.0119,  ..., -0.0281,  0.0168, -0.0009],\n",
       "                      [-0.0333, -0.0037,  0.0047,  ..., -0.0177, -0.0336,  0.0098],\n",
       "                      [ 0.0313,  0.0085, -0.0137,  ..., -0.0151, -0.0331,  0.0164],\n",
       "                      ...,\n",
       "                      [ 0.0047, -0.0313,  0.0109,  ..., -0.0121, -0.0225,  0.0229],\n",
       "                      [ 0.0154, -0.0161,  0.0333,  ...,  0.0349,  0.0356,  0.0021],\n",
       "                      [ 0.0066, -0.0071,  0.0091,  ..., -0.0230, -0.0109,  0.0097]])),\n",
       "             ('linear.bias',\n",
       "              tensor([-0.0325,  0.0540, -0.0313, -0.0186,  0.0447,  0.0246, -0.0134, -0.0028,\n",
       "                      -0.0262, -0.0006]))])"
      ]
     },
     "execution_count": 87,
     "metadata": {},
     "output_type": "execute_result"
    }
   ],
   "source": [
    "model2 = MnistModel()\n",
    "model2.load_state_dict(torch.load('mnist-logistic.pth'))\n",
    "model2.state_dict()"
   ]
  },
  {
   "cell_type": "code",
   "execution_count": 88,
   "metadata": {},
   "outputs": [
    {
     "data": {
      "text/plain": [
       "{'val_loss': 0.8541518449783325, 'val_acc': 0.840624988079071}"
      ]
     },
     "execution_count": 88,
     "metadata": {},
     "output_type": "execute_result"
    }
   ],
   "source": [
    "test_loader = DataLoader(test_dataset, batch_size=256)\n",
    "result = evaluate(model2, test_loader)\n",
    "result"
   ]
  }
 ],
 "metadata": {
  "kernelspec": {
   "display_name": "Python 3",
   "language": "python",
   "name": "python3"
  },
  "language_info": {
   "codemirror_mode": {
    "name": "ipython",
    "version": 3
   },
   "file_extension": ".py",
   "mimetype": "text/x-python",
   "name": "python",
   "nbconvert_exporter": "python",
   "pygments_lexer": "ipython3",
   "version": "3.7.6"
  }
 },
 "nbformat": 4,
 "nbformat_minor": 4
}
